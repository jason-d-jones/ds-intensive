{
 "cells": [
  {
   "cell_type": "markdown",
   "metadata": {},
   "source": [
    "# XML example and exercise\n",
    "****\n",
    "+ study examples of accessing nodes in XML tree structure  \n",
    "+ work on exercise to be completed and submitted\n",
    "****\n",
    "+ reference: https://docs.python.org/2.7/library/xml.etree.elementtree.html\n",
    "+ data source: http://www.dbis.informatik.uni-goettingen.de/Mondial\n",
    "****"
   ]
  },
  {
   "cell_type": "code",
   "execution_count": 2,
   "metadata": {
    "collapsed": false
   },
   "outputs": [],
   "source": [
    "from xml.etree import ElementTree as ET\n",
    "path = '/Users/jason/svn/springboard/data-wrangling/data_wrangling_xml'"
   ]
  },
  {
   "cell_type": "markdown",
   "metadata": {},
   "source": [
    "## XML example\n",
    "\n",
    "+ for details about tree traversal and iterators, see https://docs.python.org/2.7/library/xml.etree.elementtree.html"
   ]
  },
  {
   "cell_type": "code",
   "execution_count": 3,
   "metadata": {
    "collapsed": false
   },
   "outputs": [],
   "source": [
    "document_tree = ET.parse( path +'/data/mondial_database_less.xml' )"
   ]
  },
  {
   "cell_type": "code",
   "execution_count": 4,
   "metadata": {
    "collapsed": false
   },
   "outputs": [
    {
     "name": "stdout",
     "output_type": "stream",
     "text": [
      "Albania\n",
      "Greece\n",
      "Macedonia\n",
      "Serbia\n",
      "Montenegro\n",
      "Kosovo\n",
      "Andorra\n"
     ]
    }
   ],
   "source": [
    "# print names of all countries\n",
    "for child in document_tree.getroot():\n",
    "    print child.find('name').text"
   ]
  },
  {
   "cell_type": "code",
   "execution_count": 5,
   "metadata": {
    "collapsed": false
   },
   "outputs": [
    {
     "name": "stdout",
     "output_type": "stream",
     "text": [
      "* Albania: Tirana, Shkodër, Durrës, Vlorë, Elbasan, Korçë\n",
      "* Greece: Komotini, Kavala, Athina, Peiraias, Peristeri, Acharnes, Patra, Kozani, Kerkyra, Ioannina, Thessaloniki, Iraklio, Chania, Ermoupoli, Rhodes, Tripoli, Lamia, Chalkida, Larissa, Volos, Mytilini, Karyes\n",
      "* Macedonia: Skopje, Kumanovo\n",
      "* Serbia: Beograd, Novi Sad, Niš\n",
      "* Montenegro: Podgorica\n",
      "* Kosovo: Prishtine\n",
      "* Andorra: Andorra la Vella\n"
     ]
    }
   ],
   "source": [
    "# print names of all countries and their cities\n",
    "for element in document_tree.iterfind('country'):\n",
    "    print '* ' + element.find('name').text + ':',\n",
    "    capitals_string = ''\n",
    "    for subelement in element.getiterator('city'):\n",
    "        capitals_string += subelement.find('name').text + ', '\n",
    "    print capitals_string[:-2]"
   ]
  },
  {
   "cell_type": "markdown",
   "metadata": {},
   "source": [
    "****\n",
    "## XML exercise\n",
    "\n",
    "Using data in 'data/mondial_database.xml', the examples above, and refering to https://docs.python.org/2.7/library/xml.etree.elementtree.html, find\n",
    "\n",
    "1. 10 countries with the lowest infant mortality rates\n",
    "2. 10 cities with the largest population\n",
    "3. 10 ethnic groups with the largest overall populations (sum of best/latest estimates over all countries)\n",
    "4. name and country of a) longest river, b) largest lake and c) airport at highest elevation"
   ]
  },
  {
   "cell_type": "code",
   "execution_count": 6,
   "metadata": {
    "collapsed": false
   },
   "outputs": [],
   "source": [
    "document = ET.parse( path + '/data/mondial_database.xml' )"
   ]
  },
  {
   "cell_type": "markdown",
   "metadata": {},
   "source": [
    "1. 10 countries with lowest infant mortality rates\n",
    "--------------------------------------------------"
   ]
  },
  {
   "cell_type": "code",
   "execution_count": 7,
   "metadata": {
    "collapsed": false
   },
   "outputs": [],
   "source": [
    "root = document.getroot()"
   ]
  },
  {
   "cell_type": "code",
   "execution_count": 8,
   "metadata": {
    "collapsed": false
   },
   "outputs": [
    {
     "name": "stdout",
     "output_type": "stream",
     "text": [
      "infant_mortality\n"
     ]
    }
   ],
   "source": [
    "#find name of infant mortality tag\n",
    "for child in root[0]:\n",
    "    if child.tag.find('infant') == 0:\n",
    "        im_tag = child.tag\n",
    "        \n",
    "print im_tag"
   ]
  },
  {
   "cell_type": "code",
   "execution_count": 9,
   "metadata": {
    "collapsed": false
   },
   "outputs": [],
   "source": [
    "#Create list strings with country name\n",
    "#and list of floats with infant mortality numbers\n",
    "country = []\n",
    "im_stat = []\n",
    "for child in root:\n",
    "    if ET.iselement(child.find(im_tag)):\n",
    "        country.append(child.find('name').text), im_stat.append(float(child.find(im_tag).text))"
   ]
  },
  {
   "cell_type": "code",
   "execution_count": 10,
   "metadata": {
    "collapsed": false
   },
   "outputs": [],
   "source": [
    "#Create Pandas Series from lists\n",
    "import pandas as pd\n",
    "country = pd.Series(country)\n",
    "infant_mortality = pd.Series(im_stat)"
   ]
  },
  {
   "cell_type": "code",
   "execution_count": 11,
   "metadata": {
    "collapsed": false
   },
   "outputs": [],
   "source": [
    "#Create Dataframe from Series\n",
    "mondial_im = pd.DataFrame()\n",
    "mondial_im['country'] = country\n",
    "mondial_im['infant_mortality'] = infant_mortality"
   ]
  },
  {
   "cell_type": "code",
   "execution_count": 12,
   "metadata": {
    "collapsed": false
   },
   "outputs": [
    {
     "data": {
      "text/html": [
       "<div>\n",
       "<table border=\"1\" class=\"dataframe\">\n",
       "  <thead>\n",
       "    <tr style=\"text-align: right;\">\n",
       "      <th></th>\n",
       "      <th>country</th>\n",
       "      <th>infant_mortality</th>\n",
       "    </tr>\n",
       "  </thead>\n",
       "  <tbody>\n",
       "    <tr>\n",
       "      <th>36</th>\n",
       "      <td>Monaco</td>\n",
       "      <td>1.81</td>\n",
       "    </tr>\n",
       "    <tr>\n",
       "      <th>90</th>\n",
       "      <td>Japan</td>\n",
       "      <td>2.13</td>\n",
       "    </tr>\n",
       "    <tr>\n",
       "      <th>109</th>\n",
       "      <td>Bermuda</td>\n",
       "      <td>2.48</td>\n",
       "    </tr>\n",
       "    <tr>\n",
       "      <th>34</th>\n",
       "      <td>Norway</td>\n",
       "      <td>2.48</td>\n",
       "    </tr>\n",
       "    <tr>\n",
       "      <th>98</th>\n",
       "      <td>Singapore</td>\n",
       "      <td>2.53</td>\n",
       "    </tr>\n",
       "    <tr>\n",
       "      <th>35</th>\n",
       "      <td>Sweden</td>\n",
       "      <td>2.60</td>\n",
       "    </tr>\n",
       "    <tr>\n",
       "      <th>8</th>\n",
       "      <td>Czech Republic</td>\n",
       "      <td>2.63</td>\n",
       "    </tr>\n",
       "    <tr>\n",
       "      <th>72</th>\n",
       "      <td>Hong Kong</td>\n",
       "      <td>2.73</td>\n",
       "    </tr>\n",
       "    <tr>\n",
       "      <th>73</th>\n",
       "      <td>Macao</td>\n",
       "      <td>3.13</td>\n",
       "    </tr>\n",
       "    <tr>\n",
       "      <th>39</th>\n",
       "      <td>Iceland</td>\n",
       "      <td>3.15</td>\n",
       "    </tr>\n",
       "  </tbody>\n",
       "</table>\n",
       "</div>"
      ],
      "text/plain": [
       "            country  infant_mortality\n",
       "36           Monaco              1.81\n",
       "90            Japan              2.13\n",
       "109         Bermuda              2.48\n",
       "34           Norway              2.48\n",
       "98        Singapore              2.53\n",
       "35           Sweden              2.60\n",
       "8    Czech Republic              2.63\n",
       "72        Hong Kong              2.73\n",
       "73            Macao              3.13\n",
       "39          Iceland              3.15"
      ]
     },
     "execution_count": 12,
     "metadata": {},
     "output_type": "execute_result"
    }
   ],
   "source": [
    "#Sort dataframe by infant mortality, then print first 10\n",
    "mondial_im.sort_values('infant_mortality').head(10)"
   ]
  },
  {
   "cell_type": "markdown",
   "metadata": {},
   "source": [
    "2. 10 cities with largest population\n",
    "---------------------------------------"
   ]
  },
  {
   "cell_type": "code",
   "execution_count": 13,
   "metadata": {
    "collapsed": false
   },
   "outputs": [],
   "source": [
    "city_pop = []\n",
    "city_name = []\n",
    "#i.   Find all cities in each country\n",
    "#ii.  Create a list with all cities names\n",
    "#iii. Create a list with all populations\n",
    "for node in root:\n",
    "    child = node.findall('city')\n",
    "    for elem in child:\n",
    "        if ET.iselement(elem):\n",
    "            city = elem.find('name')\n",
    "            population = elem.find('population')\n",
    "            if ET.iselement(population):\n",
    "                city_pop.append(int(population.text))\n",
    "                city_name.append(city.text)"
   ]
  },
  {
   "cell_type": "code",
   "execution_count": 14,
   "metadata": {
    "collapsed": false
   },
   "outputs": [
    {
     "data": {
      "text/plain": [
       "192000     Tirana\n",
       "62000     Shkodër\n",
       "60000      Durrës\n",
       "56000       Vlorë\n",
       "53000     Elbasan\n",
       "dtype: object"
      ]
     },
     "execution_count": 14,
     "metadata": {},
     "output_type": "execute_result"
    }
   ],
   "source": [
    "import pandas as pd\n",
    "\n",
    "#Create Pandas series of city names, with population as index\n",
    "city_pop_series = pd.Series(city_name, city_pop)\n",
    "city_pop_series.head()"
   ]
  },
  {
   "cell_type": "code",
   "execution_count": 15,
   "metadata": {
    "collapsed": false
   },
   "outputs": [
    {
     "data": {
      "text/plain": [
       "10229262              Seoul\n",
       "7055071           Hong Kong\n",
       "6053000          Al Qahirah\n",
       "5876000             Bangkok\n",
       "3924435         Ho Chi Minh\n",
       "3813814               Busan\n",
       "3722082          New Taipei\n",
       "3056146               Hanoi\n",
       "2917000     Al Iskandariyah\n",
       "2626138              Taipei\n",
       "dtype: object"
      ]
     },
     "execution_count": 15,
     "metadata": {},
     "output_type": "execute_result"
    }
   ],
   "source": [
    "#sort cities in descending order by population\n",
    "city_pop_series.sort_index(ascending=False).head(10)"
   ]
  },
  {
   "cell_type": "markdown",
   "metadata": {},
   "source": [
    "3. Sum of top 10 ethnic groups by population\\*\n",
    "---------------------------------------------\n",
    "(\\*from our dataset)"
   ]
  },
  {
   "cell_type": "code",
   "execution_count": 115,
   "metadata": {
    "collapsed": false
   },
   "outputs": [],
   "source": [
    "#Create the following lists\n",
    "#(total_population and ethnic_percentage added for sanity check of ethnic_population)\n",
    "country = []\n",
    "ethnic_group = []\n",
    "ethnic_population = []\n",
    "total_population = []\n",
    "ethnic_percentage = []\n",
    "for child in root:\n",
    "    groups = child.findall('ethnicgroup')\n",
    "    for elem in groups:\n",
    "        if elem.attrib.keys()[0] == 'percentage':\n",
    "            country.append(child.find('name').text)\n",
    "            ethnic_group.append(elem.text)\n",
    "            total_population.append(int(child.find('population').text))\n",
    "            ethnic_percentage.append(float(elem.attrib['percentage']))\n",
    "            ethnic_population.append(int((float(elem.attrib['percentage']) / 100) * float(child.find('population').text)))"
   ]
  },
  {
   "cell_type": "code",
   "execution_count": 119,
   "metadata": {
    "collapsed": false
   },
   "outputs": [
    {
     "data": {
      "text/html": [
       "<div>\n",
       "<table border=\"1\" class=\"dataframe\">\n",
       "  <thead>\n",
       "    <tr style=\"text-align: right;\">\n",
       "      <th></th>\n",
       "      <th>country</th>\n",
       "      <th>ethnic_group</th>\n",
       "      <th>ethnic_percentage</th>\n",
       "      <th>ethnic_population</th>\n",
       "      <th>total_population</th>\n",
       "    </tr>\n",
       "  </thead>\n",
       "  <tbody>\n",
       "    <tr>\n",
       "      <th>0</th>\n",
       "      <td>Albania</td>\n",
       "      <td>Albanian</td>\n",
       "      <td>95.0</td>\n",
       "      <td>1153764</td>\n",
       "      <td>1214489</td>\n",
       "    </tr>\n",
       "    <tr>\n",
       "      <th>1</th>\n",
       "      <td>Albania</td>\n",
       "      <td>Greek</td>\n",
       "      <td>3.0</td>\n",
       "      <td>36434</td>\n",
       "      <td>1214489</td>\n",
       "    </tr>\n",
       "    <tr>\n",
       "      <th>2</th>\n",
       "      <td>Greece</td>\n",
       "      <td>Greek</td>\n",
       "      <td>93.0</td>\n",
       "      <td>1020033</td>\n",
       "      <td>1096810</td>\n",
       "    </tr>\n",
       "    <tr>\n",
       "      <th>3</th>\n",
       "      <td>Macedonia</td>\n",
       "      <td>Macedonian</td>\n",
       "      <td>64.2</td>\n",
       "      <td>519200</td>\n",
       "      <td>808724</td>\n",
       "    </tr>\n",
       "    <tr>\n",
       "      <th>4</th>\n",
       "      <td>Macedonia</td>\n",
       "      <td>Albanian</td>\n",
       "      <td>25.2</td>\n",
       "      <td>203798</td>\n",
       "      <td>808724</td>\n",
       "    </tr>\n",
       "  </tbody>\n",
       "</table>\n",
       "</div>"
      ],
      "text/plain": [
       "     country ethnic_group  ethnic_percentage  ethnic_population  \\\n",
       "0    Albania     Albanian               95.0            1153764   \n",
       "1    Albania        Greek                3.0              36434   \n",
       "2     Greece        Greek               93.0            1020033   \n",
       "3  Macedonia   Macedonian               64.2             519200   \n",
       "4  Macedonia     Albanian               25.2             203798   \n",
       "\n",
       "   total_population  \n",
       "0           1214489  \n",
       "1           1214489  \n",
       "2           1096810  \n",
       "3            808724  \n",
       "4            808724  "
      ]
     },
     "execution_count": 119,
     "metadata": {},
     "output_type": "execute_result"
    }
   ],
   "source": [
    "#Create dataframe from lists\n",
    "import pandas as pd\n",
    "ethnic_populations = pd.DataFrame({'country' : country, 'ethnic_group' : ethnic_group, 'ethnic_population' : ethnic_population, 'ethnic_percentage' : ethnic_percentage, 'total_population' : total_population } )\n",
    "ethnic_populations.head()"
   ]
  },
  {
   "cell_type": "code",
   "execution_count": 122,
   "metadata": {
    "collapsed": false
   },
   "outputs": [
    {
     "data": {
      "text/html": [
       "<div>\n",
       "<table border=\"1\" class=\"dataframe\">\n",
       "  <thead>\n",
       "    <tr style=\"text-align: right;\">\n",
       "      <th></th>\n",
       "      <th>country</th>\n",
       "      <th>ethnic_group</th>\n",
       "      <th>ethnic_percentage</th>\n",
       "      <th>ethnic_population</th>\n",
       "      <th>total_population</th>\n",
       "    </tr>\n",
       "  </thead>\n",
       "  <tbody>\n",
       "    <tr>\n",
       "      <th>176</th>\n",
       "      <td>China</td>\n",
       "      <td>Han Chinese</td>\n",
       "      <td>91.50</td>\n",
       "      <td>497555113</td>\n",
       "      <td>543776080</td>\n",
       "    </tr>\n",
       "    <tr>\n",
       "      <th>221</th>\n",
       "      <td>India</td>\n",
       "      <td>Indo-Aryan</td>\n",
       "      <td>72.00</td>\n",
       "      <td>171645355</td>\n",
       "      <td>238396327</td>\n",
       "    </tr>\n",
       "    <tr>\n",
       "      <th>345</th>\n",
       "      <td>United States</td>\n",
       "      <td>European</td>\n",
       "      <td>79.96</td>\n",
       "      <td>126187306</td>\n",
       "      <td>157813040</td>\n",
       "    </tr>\n",
       "    <tr>\n",
       "      <th>93</th>\n",
       "      <td>Russia</td>\n",
       "      <td>Russian</td>\n",
       "      <td>79.80</td>\n",
       "      <td>82033328</td>\n",
       "      <td>102798657</td>\n",
       "    </tr>\n",
       "    <tr>\n",
       "      <th>299</th>\n",
       "      <td>Japan</td>\n",
       "      <td>Japanese</td>\n",
       "      <td>99.40</td>\n",
       "      <td>81706273</td>\n",
       "      <td>82199470</td>\n",
       "    </tr>\n",
       "    <tr>\n",
       "      <th>39</th>\n",
       "      <td>Germany</td>\n",
       "      <td>German</td>\n",
       "      <td>91.50</td>\n",
       "      <td>62431178</td>\n",
       "      <td>68230796</td>\n",
       "    </tr>\n",
       "    <tr>\n",
       "      <th>220</th>\n",
       "      <td>India</td>\n",
       "      <td>Dravidian</td>\n",
       "      <td>25.00</td>\n",
       "      <td>59599081</td>\n",
       "      <td>238396327</td>\n",
       "    </tr>\n",
       "    <tr>\n",
       "      <th>165</th>\n",
       "      <td>United Kingdom</td>\n",
       "      <td>English</td>\n",
       "      <td>83.60</td>\n",
       "      <td>42314986</td>\n",
       "      <td>50616012</td>\n",
       "    </tr>\n",
       "    <tr>\n",
       "      <th>520</th>\n",
       "      <td>Nigeria</td>\n",
       "      <td>African</td>\n",
       "      <td>99.00</td>\n",
       "      <td>37481146</td>\n",
       "      <td>37859744</td>\n",
       "    </tr>\n",
       "    <tr>\n",
       "      <th>278</th>\n",
       "      <td>Indonesia</td>\n",
       "      <td>Javanese</td>\n",
       "      <td>45.00</td>\n",
       "      <td>32666486</td>\n",
       "      <td>72592192</td>\n",
       "    </tr>\n",
       "  </tbody>\n",
       "</table>\n",
       "</div>"
      ],
      "text/plain": [
       "            country ethnic_group  ethnic_percentage  ethnic_population  \\\n",
       "176           China  Han Chinese              91.50          497555113   \n",
       "221           India   Indo-Aryan              72.00          171645355   \n",
       "345   United States     European              79.96          126187306   \n",
       "93           Russia      Russian              79.80           82033328   \n",
       "299           Japan     Japanese              99.40           81706273   \n",
       "39          Germany       German              91.50           62431178   \n",
       "220           India    Dravidian              25.00           59599081   \n",
       "165  United Kingdom      English              83.60           42314986   \n",
       "520         Nigeria      African              99.00           37481146   \n",
       "278       Indonesia     Javanese              45.00           32666486   \n",
       "\n",
       "     total_population  \n",
       "176         543776080  \n",
       "221         238396327  \n",
       "345         157813040  \n",
       "93          102798657  \n",
       "299          82199470  \n",
       "39           68230796  \n",
       "220         238396327  \n",
       "165          50616012  \n",
       "520          37859744  \n",
       "278          72592192  "
      ]
     },
     "execution_count": 122,
     "metadata": {},
     "output_type": "execute_result"
    }
   ],
   "source": [
    "#Sort dataframe in desceding order by size of the ethnic population\n",
    "#and print first 10\n",
    "ethnic_populations.sort_values('ethnic_population', ascending=False).head(10)"
   ]
  },
  {
   "cell_type": "code",
   "execution_count": null,
   "metadata": {
    "collapsed": true
   },
   "outputs": [],
   "source": []
  }
 ],
 "metadata": {
  "kernelspec": {
   "display_name": "Python 2",
   "language": "python",
   "name": "python2"
  },
  "language_info": {
   "codemirror_mode": {
    "name": "ipython",
    "version": 2
   },
   "file_extension": ".py",
   "mimetype": "text/x-python",
   "name": "python",
   "nbconvert_exporter": "python",
   "pygments_lexer": "ipython2",
   "version": "2.7.13"
  }
 },
 "nbformat": 4,
 "nbformat_minor": 0
}

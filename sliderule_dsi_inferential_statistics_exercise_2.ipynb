{
 "cells": [
  {
   "cell_type": "markdown",
   "metadata": {},
   "source": [
    "# Examining Racial Discrimination in the US Job Market\n",
    "\n",
    "### Background\n",
    "Racial discrimination continues to be pervasive in cultures throughout the world. Researchers examined the level of racial discrimination in the United States labor market by randomly assigning identical résumés to black-sounding or white-sounding names and observing the impact on requests for interviews from employers.\n",
    "\n",
    "### Data\n",
    "In the dataset provided, each row represents a resume. The 'race' column has two values, 'b' and 'w', indicating black-sounding and white-sounding. The column 'call' has two values, 1 and 0, indicating whether the resume received a call from employers or not.\n",
    "\n",
    "Note that the 'b' and 'w' values in race are assigned randomly to the resumes when presented to the employer."
   ]
  },
  {
   "cell_type": "markdown",
   "metadata": {},
   "source": [
    "<div class=\"span5 alert alert-info\">\n",
    "### Exercises\n",
    "You will perform a statistical analysis to establish whether race has a significant impact on the rate of callbacks for resumes.\n",
    "\n",
    "Answer the following questions **in this notebook below and submit to your Github account**. \n",
    "\n",
    "   1. What test is appropriate for this problem? Does CLT apply?\n",
    "   2. What are the null and alternate hypotheses?\n",
    "   3. Compute margin of error, confidence interval, and p-value.\n",
    "   4. Write a story describing the statistical significance in the context or the original problem.\n",
    "   5. Does your analysis mean that race/name is the most important factor in callback success? Why or why not? If not, how would you amend your analysis?\n",
    "\n",
    "You can include written notes in notebook cells using Markdown: \n",
    "   - In the control panel at the top, choose Cell > Cell Type > Markdown\n",
    "   - Markdown syntax: http://nestacms.com/docs/creating-content/markdown-cheat-sheet\n",
    "\n",
    "\n",
    "#### Resources\n",
    "+ Experiment information and data source: http://www.povertyactionlab.org/evaluation/discrimination-job-market-united-states\n",
    "+ Scipy statistical methods: http://docs.scipy.org/doc/scipy/reference/stats.html \n",
    "+ Markdown syntax: http://nestacms.com/docs/creating-content/markdown-cheat-sheet\n",
    "</div>\n",
    "****"
   ]
  },
  {
   "cell_type": "code",
   "execution_count": 1,
   "metadata": {
    "collapsed": true
   },
   "outputs": [],
   "source": [
    "import pandas as pd\n",
    "import numpy as np\n",
    "from scipy import stats"
   ]
  },
  {
   "cell_type": "code",
   "execution_count": 4,
   "metadata": {
    "collapsed": false
   },
   "outputs": [],
   "source": [
    "data = pd.io.stata.read_stata('/Users/jason/svn/springboard/racial_disc/data/us_job_market_discrimination.dta')"
   ]
  },
  {
   "cell_type": "code",
   "execution_count": 92,
   "metadata": {
    "collapsed": false
   },
   "outputs": [
    {
     "name": "stdout",
     "output_type": "stream",
     "text": [
      "157.0\n"
     ]
    }
   ],
   "source": [
    "# number of callbacks for black-sounding names\n",
    "print sum(data[data.race=='b'].call)"
   ]
  },
  {
   "cell_type": "code",
   "execution_count": 6,
   "metadata": {
    "collapsed": false
   },
   "outputs": [
    {
     "data": {
      "text/html": [
       "<div>\n",
       "<table border=\"1\" class=\"dataframe\">\n",
       "  <thead>\n",
       "    <tr style=\"text-align: right;\">\n",
       "      <th></th>\n",
       "      <th>id</th>\n",
       "      <th>ad</th>\n",
       "      <th>education</th>\n",
       "      <th>ofjobs</th>\n",
       "      <th>yearsexp</th>\n",
       "      <th>honors</th>\n",
       "      <th>volunteer</th>\n",
       "      <th>military</th>\n",
       "      <th>empholes</th>\n",
       "      <th>occupspecific</th>\n",
       "      <th>...</th>\n",
       "      <th>compreq</th>\n",
       "      <th>orgreq</th>\n",
       "      <th>manuf</th>\n",
       "      <th>transcom</th>\n",
       "      <th>bankreal</th>\n",
       "      <th>trade</th>\n",
       "      <th>busservice</th>\n",
       "      <th>othservice</th>\n",
       "      <th>missind</th>\n",
       "      <th>ownership</th>\n",
       "    </tr>\n",
       "  </thead>\n",
       "  <tbody>\n",
       "    <tr>\n",
       "      <th>0</th>\n",
       "      <td>b</td>\n",
       "      <td>1</td>\n",
       "      <td>4</td>\n",
       "      <td>2</td>\n",
       "      <td>6</td>\n",
       "      <td>0</td>\n",
       "      <td>0</td>\n",
       "      <td>0</td>\n",
       "      <td>1</td>\n",
       "      <td>17</td>\n",
       "      <td>...</td>\n",
       "      <td>1.0</td>\n",
       "      <td>0.0</td>\n",
       "      <td>1.0</td>\n",
       "      <td>0.0</td>\n",
       "      <td>0.0</td>\n",
       "      <td>0.0</td>\n",
       "      <td>0.0</td>\n",
       "      <td>0.0</td>\n",
       "      <td>0.0</td>\n",
       "      <td></td>\n",
       "    </tr>\n",
       "    <tr>\n",
       "      <th>1</th>\n",
       "      <td>b</td>\n",
       "      <td>1</td>\n",
       "      <td>3</td>\n",
       "      <td>3</td>\n",
       "      <td>6</td>\n",
       "      <td>0</td>\n",
       "      <td>1</td>\n",
       "      <td>1</td>\n",
       "      <td>0</td>\n",
       "      <td>316</td>\n",
       "      <td>...</td>\n",
       "      <td>1.0</td>\n",
       "      <td>0.0</td>\n",
       "      <td>1.0</td>\n",
       "      <td>0.0</td>\n",
       "      <td>0.0</td>\n",
       "      <td>0.0</td>\n",
       "      <td>0.0</td>\n",
       "      <td>0.0</td>\n",
       "      <td>0.0</td>\n",
       "      <td></td>\n",
       "    </tr>\n",
       "    <tr>\n",
       "      <th>2</th>\n",
       "      <td>b</td>\n",
       "      <td>1</td>\n",
       "      <td>4</td>\n",
       "      <td>1</td>\n",
       "      <td>6</td>\n",
       "      <td>0</td>\n",
       "      <td>0</td>\n",
       "      <td>0</td>\n",
       "      <td>0</td>\n",
       "      <td>19</td>\n",
       "      <td>...</td>\n",
       "      <td>1.0</td>\n",
       "      <td>0.0</td>\n",
       "      <td>1.0</td>\n",
       "      <td>0.0</td>\n",
       "      <td>0.0</td>\n",
       "      <td>0.0</td>\n",
       "      <td>0.0</td>\n",
       "      <td>0.0</td>\n",
       "      <td>0.0</td>\n",
       "      <td></td>\n",
       "    </tr>\n",
       "    <tr>\n",
       "      <th>3</th>\n",
       "      <td>b</td>\n",
       "      <td>1</td>\n",
       "      <td>3</td>\n",
       "      <td>4</td>\n",
       "      <td>6</td>\n",
       "      <td>0</td>\n",
       "      <td>1</td>\n",
       "      <td>0</td>\n",
       "      <td>1</td>\n",
       "      <td>313</td>\n",
       "      <td>...</td>\n",
       "      <td>1.0</td>\n",
       "      <td>0.0</td>\n",
       "      <td>1.0</td>\n",
       "      <td>0.0</td>\n",
       "      <td>0.0</td>\n",
       "      <td>0.0</td>\n",
       "      <td>0.0</td>\n",
       "      <td>0.0</td>\n",
       "      <td>0.0</td>\n",
       "      <td></td>\n",
       "    </tr>\n",
       "    <tr>\n",
       "      <th>4</th>\n",
       "      <td>b</td>\n",
       "      <td>1</td>\n",
       "      <td>3</td>\n",
       "      <td>3</td>\n",
       "      <td>22</td>\n",
       "      <td>0</td>\n",
       "      <td>0</td>\n",
       "      <td>0</td>\n",
       "      <td>0</td>\n",
       "      <td>313</td>\n",
       "      <td>...</td>\n",
       "      <td>1.0</td>\n",
       "      <td>1.0</td>\n",
       "      <td>0.0</td>\n",
       "      <td>0.0</td>\n",
       "      <td>0.0</td>\n",
       "      <td>0.0</td>\n",
       "      <td>0.0</td>\n",
       "      <td>1.0</td>\n",
       "      <td>0.0</td>\n",
       "      <td>Nonprofit</td>\n",
       "    </tr>\n",
       "  </tbody>\n",
       "</table>\n",
       "<p>5 rows × 65 columns</p>\n",
       "</div>"
      ],
      "text/plain": [
       "  id ad  education  ofjobs  yearsexp  honors  volunteer  military  empholes  \\\n",
       "0  b  1          4       2         6       0          0         0         1   \n",
       "1  b  1          3       3         6       0          1         1         0   \n",
       "2  b  1          4       1         6       0          0         0         0   \n",
       "3  b  1          3       4         6       0          1         0         1   \n",
       "4  b  1          3       3        22       0          0         0         0   \n",
       "\n",
       "   occupspecific    ...      compreq  orgreq  manuf  transcom  bankreal trade  \\\n",
       "0             17    ...          1.0     0.0    1.0       0.0       0.0   0.0   \n",
       "1            316    ...          1.0     0.0    1.0       0.0       0.0   0.0   \n",
       "2             19    ...          1.0     0.0    1.0       0.0       0.0   0.0   \n",
       "3            313    ...          1.0     0.0    1.0       0.0       0.0   0.0   \n",
       "4            313    ...          1.0     1.0    0.0       0.0       0.0   0.0   \n",
       "\n",
       "  busservice othservice  missind  ownership  \n",
       "0        0.0        0.0      0.0             \n",
       "1        0.0        0.0      0.0             \n",
       "2        0.0        0.0      0.0             \n",
       "3        0.0        0.0      0.0             \n",
       "4        0.0        1.0      0.0  Nonprofit  \n",
       "\n",
       "[5 rows x 65 columns]"
      ]
     },
     "execution_count": 6,
     "metadata": {},
     "output_type": "execute_result"
    }
   ],
   "source": [
    "data.head()"
   ]
  },
  {
   "cell_type": "markdown",
   "metadata": {
    "collapsed": true
   },
   "source": [
    "## Hypothesis tests\n",
    "The null hypothesis, $H_0$, is that there is no difference betwen the proportion of call backs given to the group with black sounding names compared to the other fictional candidates. The alternate hypothesis, $H_1$, given the historical context, is that resumes with black sounding names will get fewer call backs. We have 2835 observations for each group, which we expect to follow a Bernoulli distribution. Therefore, the CLT should apply to this case."
   ]
  },
  {
   "cell_type": "code",
   "execution_count": 152,
   "metadata": {
    "collapsed": false
   },
   "outputs": [],
   "source": [
    "import scipy as sp\n",
    "class callbacks(object):\n",
    "    \n",
    "    def __init__(self, calls):\n",
    "        self.calls = calls\n",
    "        self.p = -1\n",
    "        self.variance = -1\n",
    "        self.standard_deviation = -1\n",
    "        self.nobs = len(calls)\n",
    "        \n",
    "    def mean(self):\n",
    "        self.p = np.mean(self.calls)\n",
    "        \n",
    "    def var(self):\n",
    "        if self.p < 0:\n",
    "            self.mean()\n",
    "            \n",
    "        self.variance = self.p * (1 - self.p)\n",
    "        \n",
    "    def sd(self):\n",
    "        if self.variance < 0:\n",
    "            self.var()\n",
    "            \n",
    "        self.standard_deviation = np.sqrt(self.variance)\n",
    "        \n",
    "    def ci(self, alpha):\n",
    "        # divided by 2 so we center our interval\n",
    "        n_sds = sp.stats.norm.ppf(alpha / 2)\n",
    "        tmp = np.sqrt(self.p * (1 - self.p) / self.nobs)\n",
    "        return [self.p + n_sds * tmp, self.p - n_sds * tmp]\n",
    "        \n",
    "    def z_score_mean(self,other_mean):\n",
    "        if self.p < 0:\n",
    "            self.mean()\n",
    "        return (other_mean - self.p) / (np.sqrt(self.p * (1 - self.p) / self.nobs))\n",
    "        \n",
    "    def __str__(self):\n",
    "        if self.standard_deviation < 0:\n",
    "            self.sd()\n",
    "            \n",
    "        return \"Number of observations: \" + str(self.nobs)\\\n",
    "               + \"\\n\" + \"Mean = \" + str(np.round(self.p,3)) + \"\\n\" + \"Variance = \" + str(np.round(self.variance, 3))\\\n",
    "               + \"\\n\" + \"Standard deviation = \" + str(np.round(self.standard_deviation, 3))"
   ]
  },
  {
   "cell_type": "markdown",
   "metadata": {},
   "source": [
    "### Descriptive statistics of the groups"
   ]
  },
  {
   "cell_type": "code",
   "execution_count": 153,
   "metadata": {
    "collapsed": false
   },
   "outputs": [
    {
     "name": "stdout",
     "output_type": "stream",
     "text": [
      "Black sounding names:\n",
      "Number of observations: 2435\n",
      "Mean = 0.064\n",
      "Variance = 0.06\n",
      "Standard deviation = 0.246\n",
      "\n",
      "\n",
      "Other names:\n",
      "Number of observations: 2435\n",
      "Mean = 0.097\n",
      "Variance = 0.087\n",
      "Standard deviation = 0.295\n",
      "\n",
      "\n",
      "All names:\n",
      "Number of observations: 4870\n",
      "Mean = 0.08\n",
      "Variance = 0.074\n",
      "Standard deviation = 0.272\n"
     ]
    }
   ],
   "source": [
    "b_calls = callbacks(data.call[data.race =='b'])\n",
    "print(\"Black sounding names:\")\n",
    "print(b_calls)\n",
    "print(\"\\n\")\n",
    "\n",
    "other_calls = callbacks(data.call[data.race !='b'])\n",
    "print(\"Other names:\")\n",
    "print(other_calls)\n",
    "print(\"\\n\")\n",
    "\n",
    "all_calls = callbacks(data.call)\n",
    "print(\"All names:\")\n",
    "print(all_calls)"
   ]
  },
  {
   "cell_type": "markdown",
   "metadata": {},
   "source": [
    "### Compute z-score and p-value"
   ]
  },
  {
   "cell_type": "code",
   "execution_count": 154,
   "metadata": {
    "collapsed": false
   },
   "outputs": [
    {
     "name": "stdout",
     "output_type": "stream",
     "text": [
      "-4.10841310411\n"
     ]
    }
   ],
   "source": [
    "z_score = all_calls.z_score_mean(b_calls.p)\n",
    "print z_score"
   ]
  },
  {
   "cell_type": "code",
   "execution_count": 155,
   "metadata": {
    "collapsed": false
   },
   "outputs": [
    {
     "name": "stdout",
     "output_type": "stream",
     "text": [
      "We found evidence to reject the null hypothesis:\n",
      "\tz crit   : -1.64485362695\n",
      "\tz score  : -4.10841310411\n",
      "\talpha    : 0.05\n",
      "\tp value  : 1.99193521228e-05\n"
     ]
    }
   ],
   "source": [
    "alpha = 0.05\n",
    "\n",
    "z_crit = sp.stats.norm.ppf(alpha)\n",
    "p_stat = sp.stats.norm.cdf(z_score)\n",
    "if z_score < z_crit:\n",
    "    print(\"We found evidence to reject the null hypothesis:\")\n",
    "else:\n",
    "    print(\"We did not find evidence to reject the null hypothesis:\")\n",
    "    \n",
    "print(\"\\tz crit   : \" + str(z_crit))\n",
    "print(\"\\tz score  : \" + str(z_score))\n",
    "print(\"\\talpha    : \" + str(alpha))\n",
    "print(\"\\tp value  : \" + str(p_stat))"
   ]
  },
  {
   "cell_type": "markdown",
   "metadata": {},
   "source": [
    "### Confidence interval\n",
    "Note that the mean percentage of calls for the entire group is outside the 95% confidence interval for the fictional applicants with black sounding names."
   ]
  },
  {
   "cell_type": "code",
   "execution_count": 166,
   "metadata": {
    "collapsed": false
   },
   "outputs": [
    {
     "name": "stdout",
     "output_type": "stream",
     "text": [
      "95% confidence interval for percenage of calls to applicants with black sounding names is: \n",
      "[0.054721406960874547, 0.074231364464372646]\n"
     ]
    }
   ],
   "source": [
    "print(\"95% confidence interval for percenage of calls to applicants with black sounding names is: \\n\"\\\n",
    "      + str(b_calls.ci(0.05)))"
   ]
  },
  {
   "cell_type": "markdown",
   "metadata": {},
   "source": [
    "### Margin of error\n",
    "Below is our estimate of the margin of error for our estimate of the percentage of calls to applicants with black sounding names."
   ]
  },
  {
   "cell_type": "code",
   "execution_count": 182,
   "metadata": {
    "collapsed": false
   },
   "outputs": [
    {
     "name": "stdout",
     "output_type": "stream",
     "text": [
      "+/- 15.0%\n"
     ]
    }
   ],
   "source": [
    "print(\"+/- \" + str(np.abs(np.round(100 * (b_calls.ci(0.05)[0] - b_calls.p) / b_calls.p))) + \"%\")"
   ]
  },
  {
   "cell_type": "markdown",
   "metadata": {},
   "source": [
    "### Summary of findings\n",
    "Our analysis of the data provide strong evidence that applicants with names perceived to be called back for interviews less often than others. The p value for this difference was 2e-5, which means that if there was no difference, we would expect to find an effect this strong or stronger approximately 1 out of every 50,000 samples. So while there may be othe problems associated with this experiment, we feel very confident that the result is not due to sampling variability\n",
    "\n",
    "Our best estimate of the difference is the difference between the means of the samples with and without a name that is perceived to represent and african american. The sample means are 0.08 and 0.064. So we estimate that an african american sounding name will decrease your likelihood of receiving an call back for an interview by approximately 20%."
   ]
  },
  {
   "cell_type": "markdown",
   "metadata": {},
   "source": [
    "### Is a name perceived to be associated with african american applicants the most significant factor in receiving a callback?\n",
    "\n",
    "Our analysis only assessed whether the evidence presented supported the hypothesis that applicants with african american sounding names would receive fewer calls for interviews. We could use logistic regression to assess the effect sizes of the different variables relevant to this problem."
   ]
  },
  {
   "cell_type": "code",
   "execution_count": null,
   "metadata": {
    "collapsed": true
   },
   "outputs": [],
   "source": []
  }
 ],
 "metadata": {
  "kernelspec": {
   "display_name": "Python 2",
   "language": "python",
   "name": "python2"
  },
  "language_info": {
   "codemirror_mode": {
    "name": "ipython",
    "version": 2
   },
   "file_extension": ".py",
   "mimetype": "text/x-python",
   "name": "python",
   "nbconvert_exporter": "python",
   "pygments_lexer": "ipython2",
   "version": "2.7.13"
  }
 },
 "nbformat": 4,
 "nbformat_minor": 0
}
